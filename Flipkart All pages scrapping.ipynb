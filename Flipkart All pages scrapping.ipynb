{
 "cells": [
  {
   "cell_type": "code",
   "execution_count": 1,
   "id": "6065ce3d",
   "metadata": {},
   "outputs": [],
   "source": [
    "import pandas as pd\n",
    "import requests\n",
    "from bs4 import BeautifulSoup"
   ]
  },
  {
   "cell_type": "code",
   "execution_count": 2,
   "id": "1ff6026c",
   "metadata": {},
   "outputs": [],
   "source": [
    "url = 'https://www.flipkart.com/search?q=laptop%20under%2050000&otracker=search&otracker1=search&marketplace=FLIPKART&as-show=on&as=off'"
   ]
  },
  {
   "cell_type": "code",
   "execution_count": 3,
   "id": "b208d703",
   "metadata": {},
   "outputs": [],
   "source": [
    "page = requests.get(url)"
   ]
  },
  {
   "cell_type": "code",
   "execution_count": 4,
   "id": "3cd51faf",
   "metadata": {},
   "outputs": [
    {
     "data": {
      "text/plain": [
       "<Response [200]>"
      ]
     },
     "execution_count": 4,
     "metadata": {},
     "output_type": "execute_result"
    }
   ],
   "source": [
    "page"
   ]
  },
  {
   "cell_type": "code",
   "execution_count": 5,
   "id": "2eccc03b",
   "metadata": {},
   "outputs": [],
   "source": [
    "soup = BeautifulSoup(page.text,'html.parser')"
   ]
  },
  {
   "cell_type": "code",
   "execution_count": 6,
   "id": "cc62d14c",
   "metadata": {},
   "outputs": [
    {
     "data": {
      "text/plain": [
       "<nav class=\"yFHi8N\"><a class=\"ge-49M _2Kfbh8\" href=\"/search?q=laptop+under+50000&amp;otracker=search&amp;otracker1=search&amp;marketplace=FLIPKART&amp;as-show=on&amp;as=off&amp;page=1\">1</a><a class=\"ge-49M\" href=\"/search?q=laptop+under+50000&amp;otracker=search&amp;otracker1=search&amp;marketplace=FLIPKART&amp;as-show=on&amp;as=off&amp;page=2\">2</a><a class=\"ge-49M\" href=\"/search?q=laptop+under+50000&amp;otracker=search&amp;otracker1=search&amp;marketplace=FLIPKART&amp;as-show=on&amp;as=off&amp;page=3\">3</a><a class=\"ge-49M\" href=\"/search?q=laptop+under+50000&amp;otracker=search&amp;otracker1=search&amp;marketplace=FLIPKART&amp;as-show=on&amp;as=off&amp;page=4\">4</a><a class=\"ge-49M\" href=\"/search?q=laptop+under+50000&amp;otracker=search&amp;otracker1=search&amp;marketplace=FLIPKART&amp;as-show=on&amp;as=off&amp;page=5\">5</a><a class=\"ge-49M\" href=\"/search?q=laptop+under+50000&amp;otracker=search&amp;otracker1=search&amp;marketplace=FLIPKART&amp;as-show=on&amp;as=off&amp;page=6\">6</a><a class=\"ge-49M\" href=\"/search?q=laptop+under+50000&amp;otracker=search&amp;otracker1=search&amp;marketplace=FLIPKART&amp;as-show=on&amp;as=off&amp;page=7\">7</a><a class=\"ge-49M\" href=\"/search?q=laptop+under+50000&amp;otracker=search&amp;otracker1=search&amp;marketplace=FLIPKART&amp;as-show=on&amp;as=off&amp;page=8\">8</a><a class=\"ge-49M\" href=\"/search?q=laptop+under+50000&amp;otracker=search&amp;otracker1=search&amp;marketplace=FLIPKART&amp;as-show=on&amp;as=off&amp;page=9\">9</a><a class=\"ge-49M\" href=\"/search?q=laptop+under+50000&amp;otracker=search&amp;otracker1=search&amp;marketplace=FLIPKART&amp;as-show=on&amp;as=off&amp;page=10\">10</a><a class=\"_1LKTO3\" href=\"/search?q=laptop+under+50000&amp;otracker=search&amp;otracker1=search&amp;marketplace=FLIPKART&amp;as-show=on&amp;as=off&amp;page=2\"><span>Next</span></a></nav>"
      ]
     },
     "execution_count": 6,
     "metadata": {},
     "output_type": "execute_result"
    }
   ],
   "source": [
    "soup.find('nav',{'class':'yFHi8N'})"
   ]
  },
  {
   "cell_type": "code",
   "execution_count": 7,
   "id": "e5803f57",
   "metadata": {},
   "outputs": [],
   "source": [
    "soup1 = soup.find_all('div',{'class':'_2MImiq'})[0]"
   ]
  },
  {
   "cell_type": "code",
   "execution_count": 8,
   "id": "df00dff1",
   "metadata": {},
   "outputs": [],
   "source": [
    "footer = soup1.find('span').text.strip()"
   ]
  },
  {
   "cell_type": "code",
   "execution_count": 9,
   "id": "9580a41c",
   "metadata": {},
   "outputs": [
    {
     "data": {
      "text/plain": [
       "'Page 1 of 47'"
      ]
     },
     "execution_count": 9,
     "metadata": {},
     "output_type": "execute_result"
    }
   ],
   "source": [
    "footer"
   ]
  },
  {
   "cell_type": "code",
   "execution_count": 10,
   "id": "33b89aed",
   "metadata": {},
   "outputs": [],
   "source": [
    "new_url = soup.find('a',{'class':'_1LKTO3'}).get('href')"
   ]
  },
  {
   "cell_type": "code",
   "execution_count": 11,
   "id": "9a8e9558",
   "metadata": {},
   "outputs": [
    {
     "data": {
      "text/plain": [
       "'/search?q=laptop+under+50000&otracker=search&otracker1=search&marketplace=FLIPKART&as-show=on&as=off&page=2'"
      ]
     },
     "execution_count": 11,
     "metadata": {},
     "output_type": "execute_result"
    }
   ],
   "source": [
    "new_url"
   ]
  },
  {
   "cell_type": "code",
   "execution_count": 12,
   "id": "bae5c866",
   "metadata": {},
   "outputs": [],
   "source": [
    "ProductName=[]\n",
    "url = 'https://www.flipkart.com/search?q=laptop%20under%2050000&otracker=search&otracker1=search&marketplace=FLIPKART&as-show=on&as=off'\n",
    "header = {\"User-Agent\": \"Mozilla/5.0 (Windows NT 10.0; Win64; x64) AppleWebKit/537.36 (KHTML, like Gecko) Chrome/101.0.4951.67 Safari/537.36\"}\n",
    "for i in range(42):\n",
    "    page = requests.get(url,header).text\n",
    "    soup = BeautifulSoup(page,'html.parser')\n",
    "    containers = soup.find_all('div',{\"class\":'_2kHMtA'})\n",
    "    for container in containers:\n",
    "        product = container.find('div',{'class':'_4rR01T'})\n",
    "        ProductName.append(product.text.split(\"-\")[0].strip())\n",
    "    \n",
    "    url = 'https://www.flipkart.com' + soup.find('a',{'class':'_1LKTO3'}).get('href')\n",
    "    "
   ]
  },
  {
   "cell_type": "code",
   "execution_count": 13,
   "id": "689c6a5b",
   "metadata": {},
   "outputs": [
    {
     "data": {
      "text/plain": [
       "1008"
      ]
     },
     "execution_count": 13,
     "metadata": {},
     "output_type": "execute_result"
    }
   ],
   "source": [
    "len(ProductName)"
   ]
  },
  {
   "cell_type": "code",
   "execution_count": 14,
   "id": "97eb7cec",
   "metadata": {},
   "outputs": [
    {
     "name": "stdout",
     "output_type": "stream",
     "text": [
      "https://www.flipkart.com/search?q=laptop+under+50000&otracker=search&otracker1=search&marketplace=FLIPKART&as-show=on&as=off&page=2\n",
      "https://www.flipkart.com/search?q=laptop+under+50000&otracker=search&otracker1=search&marketplace=FLIPKART&as-show=on&as=off&page=1\n",
      "https://www.flipkart.com/search?q=laptop+under+50000&otracker=search&otracker1=search&marketplace=FLIPKART&as-show=on&as=off&page=2\n",
      "https://www.flipkart.com/search?q=laptop+under+50000&otracker=search&otracker1=search&marketplace=FLIPKART&as-show=on&as=off&page=1\n",
      "https://www.flipkart.com/search?q=laptop+under+50000&otracker=search&otracker1=search&marketplace=FLIPKART&as-show=on&as=off&page=2\n",
      "https://www.flipkart.com/search?q=laptop+under+50000&otracker=search&otracker1=search&marketplace=FLIPKART&as-show=on&as=off&page=1\n",
      "https://www.flipkart.com/search?q=laptop+under+50000&otracker=search&otracker1=search&marketplace=FLIPKART&as-show=on&as=off&page=2\n",
      "https://www.flipkart.com/search?q=laptop+under+50000&otracker=search&otracker1=search&marketplace=FLIPKART&as-show=on&as=off&page=1\n",
      "https://www.flipkart.com/search?q=laptop+under+50000&otracker=search&otracker1=search&marketplace=FLIPKART&as-show=on&as=off&page=2\n",
      "https://www.flipkart.com/search?q=laptop+under+50000&otracker=search&otracker1=search&marketplace=FLIPKART&as-show=on&as=off&page=1\n"
     ]
    }
   ],
   "source": [
    "url = 'https://www.flipkart.com/search?q=laptop%20under%2050000&otracker=search&otracker1=search&marketplace=FLIPKART&as-show=on&as=off'\n",
    "header = {\"User-Agent\": \"Mozilla/5.0 (Windows NT 10.0; Win64; x64) AppleWebKit/537.36 (KHTML, like Gecko) Chrome/101.0.4951.67 Safari/537.36\"}\n",
    "for i in range(10):\n",
    "    page = requests.get(url).text\n",
    "    soup = BeautifulSoup(page,'html.parser')\n",
    "    url = 'https://www.flipkart.com'+soup.find('a',{'class':'_1LKTO3'}).get('href')\n",
    "    print(url)"
   ]
  },
  {
   "cell_type": "code",
   "execution_count": 15,
   "id": "67cfbd27",
   "metadata": {},
   "outputs": [
    {
     "name": "stdout",
     "output_type": "stream",
     "text": [
      "https://www.flipkart.com/search?q=laptop+under+50000&otracker=search&otracker1=search&marketplace=FLIPKART&as-show=on&as=off&page=2\n"
     ]
    }
   ],
   "source": [
    "url = 'https://www.flipkart.com/search?q=laptop%20under%2050000&otracker=search&otracker1=search&marketplace=FLIPKART&as-show=on&as=off'\n",
    "page = requests.get(url).text\n",
    "soup = BeautifulSoup(page,'html.parser')\n",
    "url1 = 'https://www.flipkart.com'+soup.find_all('a',{'class':'_1LKTO3'})[0].get('href')\n",
    "print(url1)"
   ]
  },
  {
   "cell_type": "code",
   "execution_count": 16,
   "id": "8bdbc6bb",
   "metadata": {},
   "outputs": [
    {
     "name": "stdout",
     "output_type": "stream",
     "text": [
      "/search?q=laptop+under+50000&otracker=search&otracker1=search&marketplace=FLIPKART&as-show=on&as=off&page=1\n"
     ]
    }
   ],
   "source": [
    "page = requests.get(url1).text\n",
    "soup = BeautifulSoup(page,'html.parser')\n",
    "print(soup.find_all('a',{'class':'_1LKTO3'})[0].get('href'))"
   ]
  },
  {
   "cell_type": "code",
   "execution_count": 17,
   "id": "3590d6fc",
   "metadata": {},
   "outputs": [],
   "source": [
    "url = \"https://www.flipkart.com/search?q=laptop+under+50000&otracker=search&otracker1=search&marketplace=FLIPKART&as-show=on&as=off&page=1\"\n",
    "page=requests.get(url).text\n",
    "soup = BeautifulSoup(page,'html.parser')"
   ]
  },
  {
   "cell_type": "code",
   "execution_count": 18,
   "id": "4b496349",
   "metadata": {},
   "outputs": [],
   "source": [
    "new_url = 'https://www.flipkart.com'+soup.find_all('a',{'class':'_1LKTO3'})[-1].get('href')"
   ]
  },
  {
   "cell_type": "code",
   "execution_count": 19,
   "id": "55f5c280",
   "metadata": {},
   "outputs": [],
   "source": [
    "page=requests.get(new_url).text\n",
    "soup = BeautifulSoup(page,'html.parser')\n",
    "next_url = 'https://www.flipkart.com'+soup.find_all('a',{'class':'_1LKTO3'})[-1].get('href')"
   ]
  },
  {
   "cell_type": "code",
   "execution_count": 20,
   "id": "924c32cb",
   "metadata": {},
   "outputs": [
    {
     "data": {
      "text/plain": [
       "'https://www.flipkart.com/search?q=laptop+under+50000&otracker=search&otracker1=search&marketplace=FLIPKART&as-show=on&as=off&page=4'"
      ]
     },
     "execution_count": 20,
     "metadata": {},
     "output_type": "execute_result"
    }
   ],
   "source": [
    "page=requests.get(next_url).text\n",
    "soup = BeautifulSoup(page,'html.parser')\n",
    "'https://www.flipkart.com'+soup.find_all('a',{'class':'_1LKTO3'})[-1].get('href')"
   ]
  },
  {
   "cell_type": "code",
   "execution_count": 65,
   "id": "30f4bf99",
   "metadata": {},
   "outputs": [],
   "source": [
    "ProductName=[]\n",
    "CurrentPrice=[]\n",
    "MRP=[]\n",
    "Stars=[]\n",
    "Ratings=[]\n",
    "Reviews=[]\n",
    "Processor=[]\n",
    "RAM=[]\n",
    "Storage=[]\n",
    "ImageURL=[]\n",
    "\n",
    "url = \"https://www.flipkart.com/search?q=laptop+under+50000&otracker=search&otracker1=search&marketplace=FLIPKART&as-show=on&as=off&page=1\"\n",
    "for i in range(41):\n",
    "    page = requests.get(url)\n",
    "    soup = BeautifulSoup(page.text,'html.parser')\n",
    "    containers = soup.find_all('div',{\"class\":'_2kHMtA'})\n",
    "    for container in containers:\n",
    "        \n",
    "        #ProductName\n",
    "        product = container.find('div',{'class':'_4rR01T'})\n",
    "        ProductName.append(product.text.split(\"-\")[0].strip())\n",
    "        \n",
    "        #CurrentPrice\n",
    "        current_price = container.find('div', {'class':'_30jeq3 _1_WHN1'})\n",
    "        CurrentPrice.append(current_price.text.replace(\",\",\"\"))\n",
    "        \n",
    "        #MRP\n",
    "        try:\n",
    "            mrp = container.find('div',{'class':'_3I9_wc _27UcVY'})\n",
    "            MRP.append(mrp.text.replace(\",\",\"\"))\n",
    "        except:\n",
    "            MRP.append(current_price.text.replace(\",\",\"\"))\n",
    "        \n",
    "        #Stars\n",
    "        stars = container.find('div',{'class':'_3LWZlK'})\n",
    "        try:\n",
    "            Stars.append(stars.text)\n",
    "        except:\n",
    "            Stars.append(stars)\n",
    "            \n",
    "        #Rating\n",
    "        rating = container.find('span',{'class':'_2_R_DZ'})\n",
    "        try:\n",
    "            Ratings.append(rating.text.split(\"&\")[0].strip().replace(\"Ratings\",\"\").replace(\",\",\"\"))\n",
    "        except:\n",
    "            Ratings.append(0)\n",
    "            \n",
    "        #Reviews\n",
    "        reviews = container.find('span',{'class':'_2_R_DZ'})\n",
    "        try:\n",
    "            Reviews.append(reviews.text.split(\"&\")[1].strip().replace('Reviews',\"\").replace(\",\",\"\"))\n",
    "        except:\n",
    "            Reviews.append(0)\n",
    "            \n",
    "        #Processor\n",
    "        info = container.find_all('li',{'class':'rgWa7D'})\n",
    "        Processor.append(info[0].text)\n",
    "        #RAM\n",
    "        RAM.append(info[1].text)\n",
    "        #Storage\n",
    "        Storage.append(info[3].text)\n",
    "        \n",
    "        #ImageURL\n",
    "        img_url = container.find('img',{'class':'_396cs4 _3exPp9'})\n",
    "        ImageURL.append(img_url.get('src'))\n",
    "        \n",
    "    url = 'https://www.flipkart.com'+soup.find('nav',{'class':'yFHi8N'}).find_all('a')[-1].get('href')\n",
    "    "
   ]
  },
  {
   "cell_type": "code",
   "execution_count": 92,
   "id": "25e667fe",
   "metadata": {},
   "outputs": [],
   "source": [
    "url = 'https://www.flipkart.com/search?q=laptop%20under%2050000&otracker=search&otracker1=search&marketplace=FLIPKART&as-show=on&as=off'\n",
    "page = requests.get(url)\n",
    "soup = BeautifulSoup(page.text,'html.parser')"
   ]
  },
  {
   "cell_type": "code",
   "execution_count": 96,
   "id": "31a29c7a",
   "metadata": {},
   "outputs": [
    {
     "data": {
      "text/plain": [
       "'/search?q=laptop+under+50000&otracker=search&otracker1=search&marketplace=FLIPKART&as-show=on&as=off&page=2'"
      ]
     },
     "execution_count": 96,
     "metadata": {},
     "output_type": "execute_result"
    }
   ],
   "source": [
    "soup.find('nav',{'class':'yFHi8N'}).find_all('a')[-1].get('href')"
   ]
  },
  {
   "cell_type": "code",
   "execution_count": 28,
   "id": "de907d6a",
   "metadata": {},
   "outputs": [
    {
     "data": {
      "text/plain": [
       "983"
      ]
     },
     "execution_count": 28,
     "metadata": {},
     "output_type": "execute_result"
    }
   ],
   "source": [
    "len(ProductName)"
   ]
  },
  {
   "cell_type": "code",
   "execution_count": 29,
   "id": "1e9f9ea1",
   "metadata": {},
   "outputs": [
    {
     "data": {
      "text/plain": [
       "983"
      ]
     },
     "execution_count": 29,
     "metadata": {},
     "output_type": "execute_result"
    }
   ],
   "source": [
    "len(ImageURL)"
   ]
  },
  {
   "cell_type": "code",
   "execution_count": 66,
   "id": "951aa80f",
   "metadata": {},
   "outputs": [],
   "source": [
    "dict = {\n",
    "    'ProductName':ProductName,\n",
    "    'CurrentPrice':CurrentPrice,\n",
    "    'MRP':MRP,\n",
    "    'Stars':Stars,\n",
    "    'Ratings':Ratings,\n",
    "    'Reviews':Reviews,\n",
    "    'Processor':Processor,\n",
    "    'RAM':RAM,\n",
    "    'Storage':Storage,\n",
    "    'ImageURL':ImageURL\n",
    "}"
   ]
  },
  {
   "cell_type": "code",
   "execution_count": 31,
   "id": "8803ddec",
   "metadata": {},
   "outputs": [],
   "source": [
    "import pandas as pd"
   ]
  },
  {
   "cell_type": "code",
   "execution_count": 67,
   "id": "3b555df2",
   "metadata": {},
   "outputs": [],
   "source": [
    "df = pd.DataFrame(dict)"
   ]
  },
  {
   "cell_type": "code",
   "execution_count": 68,
   "id": "f0c93a28",
   "metadata": {},
   "outputs": [
    {
     "data": {
      "text/html": [
       "<div>\n",
       "<style scoped>\n",
       "    .dataframe tbody tr th:only-of-type {\n",
       "        vertical-align: middle;\n",
       "    }\n",
       "\n",
       "    .dataframe tbody tr th {\n",
       "        vertical-align: top;\n",
       "    }\n",
       "\n",
       "    .dataframe thead th {\n",
       "        text-align: right;\n",
       "    }\n",
       "</style>\n",
       "<table border=\"1\" class=\"dataframe\">\n",
       "  <thead>\n",
       "    <tr style=\"text-align: right;\">\n",
       "      <th></th>\n",
       "      <th>ProductName</th>\n",
       "      <th>CurrentPrice</th>\n",
       "      <th>MRP</th>\n",
       "      <th>Stars</th>\n",
       "      <th>Ratings</th>\n",
       "      <th>Reviews</th>\n",
       "      <th>Processor</th>\n",
       "      <th>RAM</th>\n",
       "      <th>Storage</th>\n",
       "      <th>ImageURL</th>\n",
       "    </tr>\n",
       "  </thead>\n",
       "  <tbody>\n",
       "    <tr>\n",
       "      <th>0</th>\n",
       "      <td>HP Ryzen 5 Hexa Core 5500U</td>\n",
       "      <td>₹46990</td>\n",
       "      <td>₹57042</td>\n",
       "      <td>4.4</td>\n",
       "      <td>408</td>\n",
       "      <td>55</td>\n",
       "      <td>AMD Ryzen 5 Hexa Core Processor</td>\n",
       "      <td>8 GB DDR4 RAM</td>\n",
       "      <td>512 GB SSD</td>\n",
       "      <td>https://rukminim1.flixcart.com/image/312/312/l...</td>\n",
       "    </tr>\n",
       "    <tr>\n",
       "      <th>1</th>\n",
       "      <td>ASUS VivoBook 15 (2022) Core i5 11th Gen</td>\n",
       "      <td>₹47990</td>\n",
       "      <td>₹70990</td>\n",
       "      <td>4.3</td>\n",
       "      <td>1441</td>\n",
       "      <td>146</td>\n",
       "      <td>Intel Core i5 Processor (11th Gen)</td>\n",
       "      <td>8 GB DDR4 RAM</td>\n",
       "      <td>1 TB HDD|256 GB SSD</td>\n",
       "      <td>https://rukminim1.flixcart.com/image/312/312/k...</td>\n",
       "    </tr>\n",
       "    <tr>\n",
       "      <th>2</th>\n",
       "      <td>HP Core i3 11th Gen</td>\n",
       "      <td>₹42990</td>\n",
       "      <td>₹52900</td>\n",
       "      <td>4.3</td>\n",
       "      <td>40</td>\n",
       "      <td>6</td>\n",
       "      <td>Intel Core i3 Processor (11th Gen)</td>\n",
       "      <td>8 GB DDR4 RAM</td>\n",
       "      <td>512 GB SSD</td>\n",
       "      <td>https://rukminim1.flixcart.com/image/312/312/l...</td>\n",
       "    </tr>\n",
       "    <tr>\n",
       "      <th>3</th>\n",
       "      <td>Lenovo IdeaPad 3 Core i5 10th Gen</td>\n",
       "      <td>₹45990</td>\n",
       "      <td>₹64290</td>\n",
       "      <td>4.1</td>\n",
       "      <td>188</td>\n",
       "      <td>17</td>\n",
       "      <td>Intel Core i5 Processor (10th Gen)</td>\n",
       "      <td>8 GB DDR4 RAM</td>\n",
       "      <td>512 GB SSD</td>\n",
       "      <td>https://rukminim1.flixcart.com/image/312/312/k...</td>\n",
       "    </tr>\n",
       "    <tr>\n",
       "      <th>4</th>\n",
       "      <td>ASUS VivoBook K15 OLED (2022) Core i3 11th Gen</td>\n",
       "      <td>₹45990</td>\n",
       "      <td>₹58990</td>\n",
       "      <td>4.5</td>\n",
       "      <td>949</td>\n",
       "      <td>175</td>\n",
       "      <td>Intel Core i3 Processor (11th Gen)</td>\n",
       "      <td>8 GB DDR4 RAM</td>\n",
       "      <td>256 GB SSD</td>\n",
       "      <td>https://rukminim1.flixcart.com/image/312/312/l...</td>\n",
       "    </tr>\n",
       "  </tbody>\n",
       "</table>\n",
       "</div>"
      ],
      "text/plain": [
       "                                      ProductName CurrentPrice     MRP Stars  \\\n",
       "0                      HP Ryzen 5 Hexa Core 5500U       ₹46990  ₹57042   4.4   \n",
       "1        ASUS VivoBook 15 (2022) Core i5 11th Gen       ₹47990  ₹70990   4.3   \n",
       "2                             HP Core i3 11th Gen       ₹42990  ₹52900   4.3   \n",
       "3               Lenovo IdeaPad 3 Core i5 10th Gen       ₹45990  ₹64290   4.1   \n",
       "4  ASUS VivoBook K15 OLED (2022) Core i3 11th Gen       ₹45990  ₹58990   4.5   \n",
       "\n",
       "  Ratings Reviews                           Processor            RAM  \\\n",
       "0    408      55      AMD Ryzen 5 Hexa Core Processor  8 GB DDR4 RAM   \n",
       "1   1441     146   Intel Core i5 Processor (11th Gen)  8 GB DDR4 RAM   \n",
       "2     40       6   Intel Core i3 Processor (11th Gen)  8 GB DDR4 RAM   \n",
       "3    188      17   Intel Core i5 Processor (10th Gen)  8 GB DDR4 RAM   \n",
       "4    949     175   Intel Core i3 Processor (11th Gen)  8 GB DDR4 RAM   \n",
       "\n",
       "               Storage                                           ImageURL  \n",
       "0           512 GB SSD  https://rukminim1.flixcart.com/image/312/312/l...  \n",
       "1  1 TB HDD|256 GB SSD  https://rukminim1.flixcart.com/image/312/312/k...  \n",
       "2           512 GB SSD  https://rukminim1.flixcart.com/image/312/312/l...  \n",
       "3           512 GB SSD  https://rukminim1.flixcart.com/image/312/312/k...  \n",
       "4           256 GB SSD  https://rukminim1.flixcart.com/image/312/312/l...  "
      ]
     },
     "execution_count": 68,
     "metadata": {},
     "output_type": "execute_result"
    }
   ],
   "source": [
    "df.head(5)"
   ]
  },
  {
   "cell_type": "code",
   "execution_count": 69,
   "id": "95bd3b14",
   "metadata": {},
   "outputs": [],
   "source": [
    "def remove_rupee(str):\n",
    "    return str.replace(\"₹\",\"\")"
   ]
  },
  {
   "cell_type": "code",
   "execution_count": 71,
   "id": "a82a41b1",
   "metadata": {},
   "outputs": [],
   "source": [
    "df['CurrentPrice']=df['CurrentPrice'].apply(remove_rupee)"
   ]
  },
  {
   "cell_type": "code",
   "execution_count": 74,
   "id": "100ef2a1",
   "metadata": {},
   "outputs": [],
   "source": [
    "df['MRP'] = df['MRP'].apply(remove_rupee)"
   ]
  },
  {
   "cell_type": "code",
   "execution_count": 76,
   "id": "8d838b3c",
   "metadata": {},
   "outputs": [
    {
     "data": {
      "text/html": [
       "<div>\n",
       "<style scoped>\n",
       "    .dataframe tbody tr th:only-of-type {\n",
       "        vertical-align: middle;\n",
       "    }\n",
       "\n",
       "    .dataframe tbody tr th {\n",
       "        vertical-align: top;\n",
       "    }\n",
       "\n",
       "    .dataframe thead th {\n",
       "        text-align: right;\n",
       "    }\n",
       "</style>\n",
       "<table border=\"1\" class=\"dataframe\">\n",
       "  <thead>\n",
       "    <tr style=\"text-align: right;\">\n",
       "      <th></th>\n",
       "      <th>ProductName</th>\n",
       "      <th>CurrentPrice</th>\n",
       "      <th>MRP</th>\n",
       "      <th>Stars</th>\n",
       "      <th>Ratings</th>\n",
       "      <th>Reviews</th>\n",
       "      <th>Processor</th>\n",
       "      <th>RAM</th>\n",
       "      <th>Storage</th>\n",
       "      <th>ImageURL</th>\n",
       "    </tr>\n",
       "  </thead>\n",
       "  <tbody>\n",
       "    <tr>\n",
       "      <th>0</th>\n",
       "      <td>HP Ryzen 5 Hexa Core 5500U</td>\n",
       "      <td>46990</td>\n",
       "      <td>57042</td>\n",
       "      <td>4.4</td>\n",
       "      <td>408</td>\n",
       "      <td>55</td>\n",
       "      <td>AMD Ryzen 5 Hexa Core Processor</td>\n",
       "      <td>8 GB DDR4 RAM</td>\n",
       "      <td>512 GB SSD</td>\n",
       "      <td>https://rukminim1.flixcart.com/image/312/312/l...</td>\n",
       "    </tr>\n",
       "    <tr>\n",
       "      <th>1</th>\n",
       "      <td>ASUS VivoBook 15 (2022) Core i5 11th Gen</td>\n",
       "      <td>47990</td>\n",
       "      <td>70990</td>\n",
       "      <td>4.3</td>\n",
       "      <td>1441</td>\n",
       "      <td>146</td>\n",
       "      <td>Intel Core i5 Processor (11th Gen)</td>\n",
       "      <td>8 GB DDR4 RAM</td>\n",
       "      <td>1 TB HDD|256 GB SSD</td>\n",
       "      <td>https://rukminim1.flixcart.com/image/312/312/k...</td>\n",
       "    </tr>\n",
       "    <tr>\n",
       "      <th>2</th>\n",
       "      <td>HP Core i3 11th Gen</td>\n",
       "      <td>42990</td>\n",
       "      <td>52900</td>\n",
       "      <td>4.3</td>\n",
       "      <td>40</td>\n",
       "      <td>6</td>\n",
       "      <td>Intel Core i3 Processor (11th Gen)</td>\n",
       "      <td>8 GB DDR4 RAM</td>\n",
       "      <td>512 GB SSD</td>\n",
       "      <td>https://rukminim1.flixcart.com/image/312/312/l...</td>\n",
       "    </tr>\n",
       "    <tr>\n",
       "      <th>3</th>\n",
       "      <td>Lenovo IdeaPad 3 Core i5 10th Gen</td>\n",
       "      <td>45990</td>\n",
       "      <td>64290</td>\n",
       "      <td>4.1</td>\n",
       "      <td>188</td>\n",
       "      <td>17</td>\n",
       "      <td>Intel Core i5 Processor (10th Gen)</td>\n",
       "      <td>8 GB DDR4 RAM</td>\n",
       "      <td>512 GB SSD</td>\n",
       "      <td>https://rukminim1.flixcart.com/image/312/312/k...</td>\n",
       "    </tr>\n",
       "    <tr>\n",
       "      <th>4</th>\n",
       "      <td>ASUS VivoBook K15 OLED (2022) Core i3 11th Gen</td>\n",
       "      <td>45990</td>\n",
       "      <td>58990</td>\n",
       "      <td>4.5</td>\n",
       "      <td>949</td>\n",
       "      <td>175</td>\n",
       "      <td>Intel Core i3 Processor (11th Gen)</td>\n",
       "      <td>8 GB DDR4 RAM</td>\n",
       "      <td>256 GB SSD</td>\n",
       "      <td>https://rukminim1.flixcart.com/image/312/312/l...</td>\n",
       "    </tr>\n",
       "  </tbody>\n",
       "</table>\n",
       "</div>"
      ],
      "text/plain": [
       "                                      ProductName CurrentPrice    MRP Stars  \\\n",
       "0                      HP Ryzen 5 Hexa Core 5500U        46990  57042   4.4   \n",
       "1        ASUS VivoBook 15 (2022) Core i5 11th Gen        47990  70990   4.3   \n",
       "2                             HP Core i3 11th Gen        42990  52900   4.3   \n",
       "3               Lenovo IdeaPad 3 Core i5 10th Gen        45990  64290   4.1   \n",
       "4  ASUS VivoBook K15 OLED (2022) Core i3 11th Gen        45990  58990   4.5   \n",
       "\n",
       "  Ratings Reviews                           Processor            RAM  \\\n",
       "0    408      55      AMD Ryzen 5 Hexa Core Processor  8 GB DDR4 RAM   \n",
       "1   1441     146   Intel Core i5 Processor (11th Gen)  8 GB DDR4 RAM   \n",
       "2     40       6   Intel Core i3 Processor (11th Gen)  8 GB DDR4 RAM   \n",
       "3    188      17   Intel Core i5 Processor (10th Gen)  8 GB DDR4 RAM   \n",
       "4    949     175   Intel Core i3 Processor (11th Gen)  8 GB DDR4 RAM   \n",
       "\n",
       "               Storage                                           ImageURL  \n",
       "0           512 GB SSD  https://rukminim1.flixcart.com/image/312/312/l...  \n",
       "1  1 TB HDD|256 GB SSD  https://rukminim1.flixcart.com/image/312/312/k...  \n",
       "2           512 GB SSD  https://rukminim1.flixcart.com/image/312/312/l...  \n",
       "3           512 GB SSD  https://rukminim1.flixcart.com/image/312/312/k...  \n",
       "4           256 GB SSD  https://rukminim1.flixcart.com/image/312/312/l...  "
      ]
     },
     "execution_count": 76,
     "metadata": {},
     "output_type": "execute_result"
    }
   ],
   "source": [
    "df.head()"
   ]
  },
  {
   "cell_type": "code",
   "execution_count": 77,
   "id": "3aa7522e",
   "metadata": {},
   "outputs": [],
   "source": [
    "df.to_csv(\"Under_50000_laptop_on_Flipkart.csv\")"
   ]
  },
  {
   "cell_type": "code",
   "execution_count": null,
   "id": "d0ee1a78",
   "metadata": {},
   "outputs": [],
   "source": []
  }
 ],
 "metadata": {
  "kernelspec": {
   "display_name": "Python 3 (ipykernel)",
   "language": "python",
   "name": "python3"
  },
  "language_info": {
   "codemirror_mode": {
    "name": "ipython",
    "version": 3
   },
   "file_extension": ".py",
   "mimetype": "text/x-python",
   "name": "python",
   "nbconvert_exporter": "python",
   "pygments_lexer": "ipython3",
   "version": "3.9.7"
  }
 },
 "nbformat": 4,
 "nbformat_minor": 5
}
